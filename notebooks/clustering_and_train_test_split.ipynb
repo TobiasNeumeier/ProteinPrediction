{
 "cells": [
  {
   "cell_type": "markdown",
   "id": "6ac652c9",
   "metadata": {},
   "source": [
    "## Load Emeddings"
   ]
  },
  {
   "cell_type": "code",
   "execution_count": null,
   "id": "bd3ce3c1",
   "metadata": {},
   "outputs": [
    {
     "name": "stdout",
     "output_type": "stream",
     "text": [
      "Embedding shape: torch.Size([1, 1024])\n",
      "Labels shape: torch.Size([340])\n"
     ]
    }
   ],
   "source": [
    "import torch\n",
    "\n",
    "def load_embedding_and_labels(accession, proc_dir=PROC_DIR):\n",
    "    emb_path = proc_dir / f\"{accession}_embedding.pt\"\n",
    "    labels_path = proc_dir / f\"{accession}_labels.pt\"\n",
    "    embedding = torch.load(emb_path)\n",
    "    labels = torch.load(labels_path)\n",
    "    return embedding, labels\n",
    "\n",
    "# Example usage for the first accession in df\n",
    "example_accession = df[\"accession\"].iloc[0]\n",
    "embedding, labels = load_embedding_and_labels(example_accession)\n",
    "print(f\"Embedding shape: {embedding.shape}\")\n",
    "print(f\"Labels shape: {labels.shape}\")"
   ]
  },
  {
   "cell_type": "code",
   "execution_count": null,
   "id": "cc10681a",
   "metadata": {},
   "outputs": [],
   "source": [
    "%pip install graphpartpip install graphpart"
   ]
  },
  {
   "cell_type": "markdown",
   "id": "6b115b9d",
   "metadata": {},
   "source": [
    "TODO in Terminal!\n",
    "\n",
    "<mmseqs createdb all_sequences.fasta all_sequences_db\n",
    "mmseqs cluster all_sequences_db clusters tmp --min-seq-id 0.6 -c 0.8\n",
    "mmseqs createtsv all_sequences_db all_sequences_db clusters clusters.tsv>\n",
    "\n",
    "<conda install -c bioconda mmseqs2>\n",
    "\n",
    "<graphpart split --input clusters.tsv --output splits.tsv --ratios 0.7 0.2 0.1>"
   ]
  },
  {
   "cell_type": "code",
   "execution_count": null,
   "id": "7e565e53",
   "metadata": {},
   "outputs": [],
   "source": [
    "import pandas as pd\n",
    "\n",
    "df = pd.read_csv(\"../data/results_with_sequence.csv\")\n",
    "with open(\"all_sequences.fasta\", \"w\") as fasta:\n",
    "    for i, row in df.iterrows():\n",
    "        fasta.write(f\">{row['accession']}\\n{row['sequence']}\\n\")"
   ]
  },
  {
   "cell_type": "code",
   "execution_count": null,
   "id": "33beb479",
   "metadata": {},
   "outputs": [],
   "source": [
    "import pandas as pd\n",
    "\n",
    "splits = pd.read_csv(\"splits.tsv\", sep=\"\\t\", names=[\"accession\", \"split\"])\n",
    "split_dict = dict(zip(splits[\"accession\"], splits[\"split\"]))"
   ]
  },
  {
   "cell_type": "markdown",
   "id": "8994a371",
   "metadata": {},
   "source": [
    "4. Map splits back to your embeddings"
   ]
  },
  {
   "cell_type": "code",
   "execution_count": null,
   "id": "da443f8c",
   "metadata": {},
   "outputs": [],
   "source": [
    "from pathlib import Path\n",
    "import shutil\n",
    "\n",
    "PROC_DIR = Path(\"../data/processed\")\n",
    "for split in [\"train\", \"val\", \"test\"]:\n",
    "    (PROC_DIR / split).mkdir(exist_ok=True)\n",
    "\n",
    "for accession, split in split_dict.items():\n",
    "    emb_file = PROC_DIR / f\"{accession}_embedding.pt\"\n",
    "    label_file = PROC_DIR / f\"{accession}_labels.pt\"\n",
    "    if emb_file.exists():\n",
    "        shutil.move(str(emb_file), str(PROC_DIR / split / f\"{accession}_embedding.pt\"))\n",
    "    if label_file.exists():\n",
    "        shutil.move(str(label_file), str(PROC_DIR / split / f\"{accession}_labels.pt\"))"
   ]
  }
 ],
 "metadata": {
  "language_info": {
   "name": "python"
  }
 },
 "nbformat": 4,
 "nbformat_minor": 5
}
